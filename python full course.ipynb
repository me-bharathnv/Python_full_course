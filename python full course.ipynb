{
 "cells": [
  {
   "cell_type": "markdown",
   "metadata": {},
   "source": [
    "# Python Full Course"
   ]
  },
  {
   "cell_type": "code",
   "execution_count": 1,
   "metadata": {},
   "outputs": [
    {
     "name": "stdout",
     "output_type": "stream",
     "text": [
      "Hello, World!\n"
     ]
    }
   ],
   "source": [
    "print(\"Hello, World!\")"
   ]
  },
  {
   "cell_type": "markdown",
   "metadata": {},
   "source": [
    "# Data Types"
   ]
  },
  {
   "cell_type": "code",
   "execution_count": 2,
   "metadata": {},
   "outputs": [
    {
     "data": {
      "text/plain": [
       "str"
      ]
     },
     "execution_count": 2,
     "metadata": {},
     "output_type": "execute_result"
    }
   ],
   "source": [
    "name = \"John\"\n",
    "type(name) # string type"
   ]
  },
  {
   "cell_type": "code",
   "execution_count": 3,
   "metadata": {},
   "outputs": [
    {
     "data": {
      "text/plain": [
       "int"
      ]
     },
     "execution_count": 3,
     "metadata": {},
     "output_type": "execute_result"
    }
   ],
   "source": [
    "num = 1\n",
    "type(num) # integer type"
   ]
  },
  {
   "cell_type": "code",
   "execution_count": 4,
   "metadata": {},
   "outputs": [
    {
     "data": {
      "text/plain": [
       "float"
      ]
     },
     "execution_count": 4,
     "metadata": {},
     "output_type": "execute_result"
    }
   ],
   "source": [
    "num = 1.5\n",
    "type(num) # floating Type"
   ]
  },
  {
   "cell_type": "code",
   "execution_count": 6,
   "metadata": {},
   "outputs": [
    {
     "name": "stdout",
     "output_type": "stream",
     "text": [
      "Hello Bharath Your age is 25 and your height is 5.8\n"
     ]
    }
   ],
   "source": [
    "# Assigning the variable\n",
    "age = 25\n",
    "name = \"Bharath\"\n",
    "height = 5.8\n",
    "\n",
    "print(f\"Hello {name} Your age is {age} and your height is {height}\")"
   ]
  },
  {
   "cell_type": "code",
   "execution_count": 10,
   "metadata": {},
   "outputs": [
    {
     "name": "stdout",
     "output_type": "stream",
     "text": [
      "10\n",
      "10\n",
      "10\n",
      "10 15 20\n"
     ]
    }
   ],
   "source": [
    "# Assigning the multiple values\n",
    "\n",
    "a = b = c=10\n",
    "print(a)\n",
    "print(b)\n",
    "print(c)\n",
    "\n",
    "a,b,c = 10, 15, 20\n",
    "print(a,b,c)\n"
   ]
  },
  {
   "cell_type": "markdown",
   "metadata": {},
   "source": [
    "# python arithamatic operators"
   ]
  },
  {
   "cell_type": "code",
   "execution_count": 16,
   "metadata": {},
   "outputs": [
    {
     "name": "stdout",
     "output_type": "stream",
     "text": [
      "15\n",
      "5\n",
      "50\n",
      "2.0\n",
      "2\n"
     ]
    }
   ],
   "source": [
    "a = 10\n",
    "b = 5\n",
    "\n",
    "add = a + b\n",
    "print(add)     # addition\n",
    "sub = a - b\n",
    "print(sub)     # subtraction\n",
    "mul = a * b\n",
    "print(mul)     # multiplication\n",
    "div = a / b\n",
    "print(div)     # division\n",
    "modu = a // b\n",
    "print(modu)    # integer division"
   ]
  },
  {
   "cell_type": "markdown",
   "metadata": {},
   "source": [
    "# Python assignment Operators"
   ]
  },
  {
   "cell_type": "code",
   "execution_count": 13,
   "metadata": {},
   "outputs": [
    {
     "name": "stdout",
     "output_type": "stream",
     "text": [
      "10\n",
      "12\n",
      "-17\n",
      "-204\n",
      "-68.0\n"
     ]
    }
   ],
   "source": [
    "x = 10\n",
    "print(x)\n",
    "x +=  2\n",
    "print(x)\n",
    "x -= 29\n",
    "print(x)\n",
    "x *= 12\n",
    "print(x)\n",
    "x /= 3\n",
    "print(x)\n",
    "\n",
    "\n",
    "\n",
    "    "
   ]
  },
  {
   "cell_type": "markdown",
   "metadata": {},
   "source": [
    "# python logical operators"
   ]
  },
  {
   "cell_type": "code",
   "execution_count": 20,
   "metadata": {},
   "outputs": [
    {
     "name": "stdout",
     "output_type": "stream",
     "text": [
      "False\n",
      "True\n",
      "False\n",
      "True\n"
     ]
    },
    {
     "name": "stderr",
     "output_type": "stream",
     "text": [
      "<>:10: SyntaxWarning: \"is not\" with a literal. Did you mean \"!=\"?\n",
      "<>:10: SyntaxWarning: \"is not\" with a literal. Did you mean \"!=\"?\n",
      "<ipython-input-20-4090796311e5>:10: SyntaxWarning: \"is not\" with a literal. Did you mean \"!=\"?\n",
      "  10 is not 10\n"
     ]
    },
    {
     "data": {
      "text/plain": [
       "False"
      ]
     },
     "execution_count": 20,
     "metadata": {},
     "output_type": "execute_result"
    }
   ],
   "source": [
    "x = 15\n",
    "y = 16 \n",
    "\n",
    "print(x == y)  # equal operator\n",
    "print(x != y)  # Not equal operator\n",
    "\n",
    "print(x == 15 and y != 16) # and operator \n",
    "print(x == 15 or y != 16) # or operator \n",
    "\n",
    "10 is not 10"
   ]
  },
  {
   "cell_type": "markdown",
   "metadata": {},
   "source": [
    "#  "
   ]
  },
  {
   "cell_type": "markdown",
   "metadata": {},
   "source": [
    "# Data types"
   ]
  },
  {
   "cell_type": "code",
   "execution_count": 7,
   "metadata": {},
   "outputs": [
    {
     "name": "stdout",
     "output_type": "stream",
     "text": [
      "8\n",
      "a\n",
      "abcd\n",
      "efgh\n",
      "abcdefg\n"
     ]
    },
    {
     "data": {
      "text/plain": [
       "'abcdeggh'"
      ]
     },
     "execution_count": 7,
     "metadata": {},
     "output_type": "execute_result"
    }
   ],
   "source": [
    "# Strings\n",
    "string = \"abcdefgh\"\n",
    "print(len(string))\n",
    "\n",
    "print(string[0])  # index\n",
    "print(string[0:4]) # slicing\n",
    "print(string[4:])\n",
    "print(string[:-1]) # reverse slicing\n",
    "\n",
    "string.replace(\"f\",\"g\")  # replace the letter"
   ]
  },
  {
   "cell_type": "code",
   "execution_count": 13,
   "metadata": {},
   "outputs": [
    {
     "name": "stdout",
     "output_type": "stream",
     "text": [
      "('Sunday', 'Monday', 'Tuesday', 'Wednesday', 'Thursday', 'Friday', 'Saturday')\n",
      "<class 'tuple'>\n",
      "Wednesday\n"
     ]
    }
   ],
   "source": [
    "# tuples\n",
    "\n",
    "weeks = (\"Sunday\", \"Monday\", \"Tuesday\", \"Wednesday\", \"Thursday\", \"Friday\", \"Saturday\")\n",
    "print(weeks)\n",
    "print(type(weeks))\n",
    "\n",
    "print(weeks[3])"
   ]
  },
  {
   "cell_type": "code",
   "execution_count": 21,
   "metadata": {},
   "outputs": [
    {
     "name": "stdout",
     "output_type": "stream",
     "text": [
      "<class 'list'>\n"
     ]
    },
    {
     "data": {
      "text/plain": [
       "['January', 'Febraury', 'March', 'Summer', 'May', 'June', 'July', 'August']"
      ]
     },
     "execution_count": 21,
     "metadata": {},
     "output_type": "execute_result"
    }
   ],
   "source": [
    "# lists\n",
    "\n",
    "months = [\"January\", \"Febraury\", \"March\", \"April\", \"May\", \"June\", \"July\"]\n",
    "print(type(months))\n",
    "\n",
    "months[3] = \"Summer\"\n",
    "months.append(\"August\")\n",
    "months"
   ]
  },
  {
   "cell_type": "code",
   "execution_count": 28,
   "metadata": {},
   "outputs": [
    {
     "name": "stdout",
     "output_type": "stream",
     "text": [
      "{'Bharath': 25, 'Govind': 23, 'Lokesh': 27}\n",
      "<class 'dict'>\n",
      "dict_keys(['Bharath', 'Govind', 'Lokesh'])\n",
      "dict_values([25, 23, 27])\n",
      "23\n",
      "23\n"
     ]
    }
   ],
   "source": [
    "# Dictionaries  \n",
    "\n",
    "salaries = {\"Bharath\":25, \"Govind\":23, \"Lokesh\":27}\n",
    "print(salaries)\n",
    "print(type(salaries))\n",
    "\n",
    "print(salaries.keys())\n",
    "print(salaries.values())\n",
    "\n",
    "print(salaries[\"Govind\"])\n",
    "\n",
    "print(salaries.get(\"Mohan\", 23))"
   ]
  },
  {
   "cell_type": "code",
   "execution_count": 33,
   "metadata": {},
   "outputs": [
    {
     "name": "stdout",
     "output_type": "stream",
     "text": [
      "<class 'set'>\n",
      "True\n",
      "False\n"
     ]
    }
   ],
   "source": [
    "# sets\n",
    "\n",
    "s = set()\n",
    "print(type(s))\n",
    "s.add(1)\n",
    "s.add(2)\n",
    "\n",
    "s\n",
    "print(1 in s)\n",
    "print(3 in s)\n",
    "\n"
   ]
  },
  {
   "cell_type": "markdown",
   "metadata": {},
   "source": [
    "# Hands on Data types"
   ]
  },
  {
   "cell_type": "code",
   "execution_count": 40,
   "metadata": {},
   "outputs": [
    {
     "name": "stdout",
     "output_type": "stream",
     "text": [
      "[1, 2, 3, 4, 5]\n",
      "[1, 2, 3, 4, 5, 6]\n",
      "[1, 2, 3, 4, 5]\n",
      "1\n",
      "2\n",
      "3\n",
      "4\n",
      "5\n",
      "Done\n"
     ]
    }
   ],
   "source": [
    "# lists\n",
    "nums = [1,2,3,4,5]\n",
    "print(nums)\n",
    "nums.append(6)\n",
    "print(nums)\n",
    "\n",
    "nums.pop() # removes the last item in the list if we don't index any value\n",
    "print(nums)\n",
    "\n",
    "for x in nums: # loop through the data\n",
    "    print(x)\n",
    "print(\"Done\")"
   ]
  },
  {
   "cell_type": "code",
   "execution_count": 48,
   "metadata": {},
   "outputs": [
    {
     "name": "stdout",
     "output_type": "stream",
     "text": [
      "{'Bharath': 14, 'Mohan': 21}\n",
      "{'Bharath': 14, 'Mohan': 21, 'Andy': 15}\n",
      "{'Bharath': 14, 'Mohan': 21}\n",
      "Bharath\n",
      "Mohan\n",
      "14\n",
      "21\n",
      "Bharath 14\n",
      "Mohan 21\n",
      "True\n"
     ]
    }
   ],
   "source": [
    "# dictionaries\n",
    "sal = {\"Bharath\":14, \"Mohan\":21}\n",
    "\n",
    "print(sal)\n",
    "sal[\"Andy\"] = 15\n",
    "print(sal)\n",
    "\n",
    "del sal[\"Andy\"] # delete the data in dic...\n",
    "print(sal)\n",
    "\n",
    "for item in sal.keys():  # loop through only keys\n",
    "    print(item)\n",
    "     \n",
    "for item in sal.values():  # loop through only keys\n",
    "    print(item)\n",
    "    \n",
    "for key, val in sal.items(): # loop both items\n",
    "    print(key, val)\n",
    "    \n",
    "print(\"Bharath\" in sal)\n",
    "    \n"
   ]
  },
  {
   "cell_type": "code",
   "execution_count": 54,
   "metadata": {},
   "outputs": [
    {
     "name": "stdout",
     "output_type": "stream",
     "text": [
      "<class 'set'>\n",
      "1\n",
      "2\n",
      "3\n",
      "4\n",
      "5\n",
      "True\n"
     ]
    }
   ],
   "source": [
    "# set \n",
    "\n",
    "s = {1,2,3}\n",
    "print(type(s))\n",
    "s.add(4)\n",
    "s.add(5)\n",
    "\n",
    "for num in s: # loop through data\n",
    "    print(num)\n",
    "    \n",
    "print(3 in s)"
   ]
  },
  {
   "cell_type": "markdown",
   "metadata": {},
   "source": [
    "# hands on Comprehensions"
   ]
  },
  {
   "cell_type": "code",
   "execution_count": 63,
   "metadata": {},
   "outputs": [
    {
     "name": "stdout",
     "output_type": "stream",
     "text": [
      "[0, 1, 2, 3, 4, 5, 6, 7, 8, 9]\n",
      "\n",
      "[0, 1, 2, 3, 4, 5, 6, 7, 8, 9]\n",
      "(0, 1, 2, 3, 4, 5, 6, 7, 8, 9)\n",
      "{0, 1, 2, 3, 4, 5, 6, 7, 8, 9}\n",
      "{0: 0, 1: 1, 2: 4, 3: 9, 4: 16, 5: 25, 6: 36, 7: 49, 8: 64, 9: 81}\n"
     ]
    }
   ],
   "source": [
    "ex = []                   # normal\n",
    "for x in range(0,10):\n",
    "    ex.append(x)\n",
    "print(ex)\n",
    "print()\n",
    "\n",
    "lis = [x for x in range(0,10)]  # list comprehensions\n",
    "tuples = tuple((x for x in range(0,10)))  # tuples comprehensions\n",
    "sets = {x for x in range(0,10)}   # sets comprehensions\n",
    "dicti = {x:x*x for x in range(0,10)}   # dictionaries comprehensions\n",
    "\n",
    "print(lis)\n",
    "print(tuples)\n",
    "print(sets)\n",
    "print(dicti)"
   ]
  },
  {
   "cell_type": "markdown",
   "metadata": {},
   "source": [
    "# conditional Statements"
   ]
  },
  {
   "cell_type": "code",
   "execution_count": 65,
   "metadata": {},
   "outputs": [
    {
     "name": "stdout",
     "output_type": "stream",
     "text": [
      "X is greater than 20\n"
     ]
    }
   ],
   "source": [
    "x = 20\n",
    "\n",
    "if x < 20:\n",
    "    print(\"X is less than 20\")\n",
    "else:\n",
    "    print(\"X is greater than 20\")"
   ]
  },
  {
   "cell_type": "code",
   "execution_count": 66,
   "metadata": {},
   "outputs": [
    {
     "name": "stdout",
     "output_type": "stream",
     "text": [
      "X is equla to 20\n"
     ]
    }
   ],
   "source": [
    "x = 20\n",
    "\n",
    "if x < 20:\n",
    "    print(\"X is less than 20\")\n",
    "elif x == 20:\n",
    "    print(\"X is equla to 20\")\n",
    "else:\n",
    "    print(\"X is greater than 20\")"
   ]
  },
  {
   "cell_type": "code",
   "execution_count": 72,
   "metadata": {},
   "outputs": [
    {
     "name": "stdout",
     "output_type": "stream",
     "text": [
      "X is equal to 20\n"
     ]
    }
   ],
   "source": [
    "# nested if else\n",
    "\n",
    "x = 20\n",
    "if x < 20:\n",
    "    print(\"X is less than 20\")\n",
    "    if x < 15:\n",
    "        print(\"X is less than 15\")\n",
    "    else:\n",
    "        print(\"X is greater than 20\")\n",
    "elif x == 20:\n",
    "    print(\"X is equal to 20\")\n",
    "else:\n",
    "    print(\"X is greater than 20\")"
   ]
  },
  {
   "cell_type": "markdown",
   "metadata": {},
   "source": [
    "# Looping Statements"
   ]
  },
  {
   "cell_type": "code",
   "execution_count": 7,
   "metadata": {},
   "outputs": [
    {
     "name": "stdout",
     "output_type": "stream",
     "text": [
      "0\n",
      "1\n",
      "2\n",
      "3\n",
      "4\n",
      "5\n",
      "6\n",
      "7\n",
      "8\n",
      "9\n",
      "0, 1, 2, 3, 4, 5, 6, 7, 8, 9, \n",
      "0, 2, 4, 6, 8, "
     ]
    }
   ],
   "source": [
    "# for Loop\n",
    "\n",
    "for x in range(0,10):\n",
    "    print(x)\n",
    "    \n",
    "for x in range(0, 10):\n",
    "    print(x, end=\", \") # using end function\n",
    "    \n",
    "print()\n",
    "nums= [x for x in range(0, 10, 2)]  # using list\n",
    "for x in nums:\n",
    "    print(x, end=\", \")\n",
    "    \n"
   ]
  },
  {
   "cell_type": "code",
   "execution_count": 9,
   "metadata": {},
   "outputs": [
    {
     "name": "stdout",
     "output_type": "stream",
     "text": [
      "0\n",
      "1\n",
      "2\n",
      "3\n",
      "4\n",
      "5\n"
     ]
    }
   ],
   "source": [
    "# break Statement\n",
    "nums1 = [x for x in range(0, 10)]\n",
    "\n",
    "for x in nums1:\n",
    "    if (x == 6):\n",
    "        break\n",
    "    print(x)\n",
    "    "
   ]
  },
  {
   "cell_type": "code",
   "execution_count": 10,
   "metadata": {},
   "outputs": [
    {
     "name": "stdout",
     "output_type": "stream",
     "text": [
      "0\n",
      "1\n",
      "2\n",
      "3\n",
      "4\n",
      "5\n",
      "7\n",
      "8\n",
      "9\n"
     ]
    }
   ],
   "source": [
    "# continue Statement\n",
    "nums1 = [x for x in range(0, 10)]\n",
    "\n",
    "for x in nums1:\n",
    "    if (x == 6):\n",
    "        continue\n",
    "    print(x)"
   ]
  },
  {
   "cell_type": "code",
   "execution_count": 11,
   "metadata": {},
   "outputs": [
    {
     "name": "stdout",
     "output_type": "stream",
     "text": [
      "10\n",
      "9\n",
      "8\n",
      "7\n",
      "6\n",
      "5\n",
      "4\n",
      "3\n",
      "2\n",
      "1\n"
     ]
    }
   ],
   "source": [
    "# While loop\n",
    "\n",
    "a = 10\n",
    "while a != 0:\n",
    "    print(a)\n",
    "    a -= 1"
   ]
  },
  {
   "cell_type": "markdown",
   "metadata": {},
   "source": [
    "# functions in python"
   ]
  },
  {
   "cell_type": "code",
   "execution_count": 16,
   "metadata": {},
   "outputs": [
    {
     "name": "stdout",
     "output_type": "stream",
     "text": [
      "4\n"
     ]
    },
    {
     "data": {
      "text/plain": [
       "4"
      ]
     },
     "execution_count": 16,
     "metadata": {},
     "output_type": "execute_result"
    }
   ],
   "source": [
    "# difference between functions and lambda\n",
    "def multiply(x, y): # using function\n",
    "    return(x * y)\n",
    "print(multiply(2,2))\n",
    "\n",
    "x = lambda x, y: x * y  # using same logic in lambda\n",
    "x(2, 2)"
   ]
  },
  {
   "cell_type": "code",
   "execution_count": 17,
   "metadata": {},
   "outputs": [
    {
     "name": "stdout",
     "output_type": "stream",
     "text": [
      "13\n"
     ]
    }
   ],
   "source": [
    "# power of lambda\n",
    "\n",
    "def myfunc(n):\n",
    "    return lambda a: a + n\n",
    "mysum = myfunc(3)\n",
    "print(mysum(10))"
   ]
  },
  {
   "cell_type": "code",
   "execution_count": 25,
   "metadata": {},
   "outputs": [
    {
     "name": "stdout",
     "output_type": "stream",
     "text": [
      "Establish Connection: www.abc.com\n",
      "Open connection: www.abc.com\n",
      "Download Data\n",
      "Close connection\n",
      "\n",
      "Establish Connection: www.123.com\n",
      "Open connection: www.123.com\n",
      "Download Data\n",
      "Close connection\n",
      "\n",
      "Establish Connection: www.xyz.com\n",
      "Open connection: www.xyz.com\n",
      "Download Data\n",
      "Close connection\n",
      "\n",
      "4\n",
      "6\n",
      "8\n",
      "10\n",
      "12\n"
     ]
    }
   ],
   "source": [
    "# functions\n",
    "def downloadfile(url):\n",
    "    print(f\"Establish Connection: {url}\")\n",
    "    print(f\"Open connection: {url}\")\n",
    "    print(\"Download Data\")\n",
    "    print(\"Close connection\" +\"\\n\")\n",
    "    \n",
    "    \n",
    "downloadfile(\"www.abc.com\")\n",
    "downloadfile(\"www.123.com\")\n",
    "downloadfile(\"www.xyz.com\")\n",
    "\n",
    "\n",
    "def multiply(x, y):\n",
    "    return(x * y)\n",
    "\n",
    "print(multiply(2, 2))\n",
    "print(multiply(2, 3))\n",
    "print(multiply(2, 4))\n",
    "print(multiply(2, 5))\n",
    "print(multiply(2, 6))\n"
   ]
  },
  {
   "cell_type": "code",
   "execution_count": 26,
   "metadata": {},
   "outputs": [
    {
     "name": "stdout",
     "output_type": "stream",
     "text": [
      "4\n",
      "6\n",
      "8\n",
      "10\n",
      "12\n"
     ]
    }
   ],
   "source": [
    "# lambda function\n",
    "lamul = lambda x, y: x * y\n",
    "\n",
    "print(lamul(2, 2))\n",
    "print(lamul(2, 3))\n",
    "print(lamul(2, 4))\n",
    "print(lamul(2, 5))\n",
    "print(lamul(2, 6))"
   ]
  },
  {
   "cell_type": "markdown",
   "metadata": {},
   "source": [
    "# File Handling in python"
   ]
  },
  {
   "cell_type": "code",
   "execution_count": 17,
   "metadata": {},
   "outputs": [
    {
     "ename": "FileExistsError",
     "evalue": "[Errno 17] File exists: 'sample.txt'",
     "output_type": "error",
     "traceback": [
      "\u001b[1;31m---------------------------------------------------------------------------\u001b[0m",
      "\u001b[1;31mFileExistsError\u001b[0m                           Traceback (most recent call last)",
      "\u001b[1;32m<ipython-input-17-12dbba1df73a>\u001b[0m in \u001b[0;36m<module>\u001b[1;34m\u001b[0m\n\u001b[1;32m----> 1\u001b[1;33m \u001b[0mf\u001b[0m \u001b[1;33m=\u001b[0m \u001b[0mopen\u001b[0m\u001b[1;33m(\u001b[0m\u001b[1;34m\"sample.txt\"\u001b[0m\u001b[1;33m,\u001b[0m \u001b[1;34m\"x\"\u001b[0m\u001b[1;33m)\u001b[0m   \u001b[1;31m# create a file\u001b[0m\u001b[1;33m\u001b[0m\u001b[1;33m\u001b[0m\u001b[0m\n\u001b[0m\u001b[0;32m      2\u001b[0m \u001b[0mf\u001b[0m\u001b[1;33m.\u001b[0m\u001b[0mclose\u001b[0m\u001b[1;33m(\u001b[0m\u001b[1;33m)\u001b[0m\u001b[1;33m\u001b[0m\u001b[1;33m\u001b[0m\u001b[0m\n",
      "\u001b[1;31mFileExistsError\u001b[0m: [Errno 17] File exists: 'sample.txt'"
     ]
    }
   ],
   "source": [
    "f = open(\"sample.txt\", \"x\")   # create a file\n",
    "f.close()\n"
   ]
  },
  {
   "cell_type": "code",
   "execution_count": 18,
   "metadata": {},
   "outputs": [],
   "source": [
    "with open(\"sample.txt\", \"w\") as f:\n",
    "    f.write(\"sample Line \\nsample line 2\\n\")  # write a data to the file\n",
    "f.close()"
   ]
  },
  {
   "cell_type": "code",
   "execution_count": 20,
   "metadata": {},
   "outputs": [],
   "source": [
    "with open(\"sample.txt\", \"a\") as f:    # adding a date to the file\n",
    "    f.write(\"New line\\n\")\n",
    "f.close()"
   ]
  },
  {
   "cell_type": "code",
   "execution_count": 21,
   "metadata": {},
   "outputs": [
    {
     "name": "stdout",
     "output_type": "stream",
     "text": [
      "sample Line \n",
      " sample line 2\n",
      " New line\n",
      " New line\n",
      " "
     ]
    }
   ],
   "source": [
    "with open(\"sample.txt\", \"r\") as f:\n",
    "    for l in f.readlines():             # reading first 2 line in the file\n",
    "        print(l, end=\" \")\n",
    "f.close()"
   ]
  },
  {
   "cell_type": "code",
   "execution_count": 23,
   "metadata": {},
   "outputs": [
    {
     "name": "stdout",
     "output_type": "stream",
     "text": [
      "sample Line \n",
      "sample line 2\n",
      "New line\n",
      "New line\n",
      "\n"
     ]
    }
   ],
   "source": [
    "with open(\"sample.txt\", \"r\") as f:\n",
    "    print(f.read())   \n",
    "f.close()"
   ]
  },
  {
   "cell_type": "markdown",
   "metadata": {},
   "source": [
    "# OOPS in Python"
   ]
  },
  {
   "cell_type": "code",
   "execution_count": 28,
   "metadata": {},
   "outputs": [
    {
     "name": "stdout",
     "output_type": "stream",
     "text": [
      "object with name: Charlie\n",
      "object with name: Bruno\n",
      "woof!\n",
      "My name is: Charlie\n",
      "woof!\n",
      "My name is: Bruno\n",
      "Charlie\n",
      "Bruno\n"
     ]
    }
   ],
   "source": [
    "class Dog:\n",
    "    def __init__(self, name):\n",
    "        self.name = name\n",
    "        print(\"object with name: {}\".format(name))\n",
    "        \n",
    "    def talk(self):\n",
    "        print(\"woof!\")\n",
    "    \n",
    "    def printname(self):\n",
    "        print(f\"My name is: {self.name}\")\n",
    "        \n",
    "    def __str__(self):\n",
    "        return self.name\n",
    "        \n",
    "        \n",
    "dog1 = Dog(\"Charlie\")\n",
    "dog2 = Dog(\"Bruno\")\n",
    "\n",
    "dog1.talk()\n",
    "dog1.printname()\n",
    "dog2.talk()\n",
    "dog2.printname()\n",
    "\n",
    "print(dog1)\n",
    "print(dog2)"
   ]
  },
  {
   "cell_type": "markdown",
   "metadata": {},
   "source": [
    "# inheritance in python"
   ]
  },
  {
   "cell_type": "code",
   "execution_count": 11,
   "metadata": {},
   "outputs": [
    {
     "name": "stdout",
     "output_type": "stream",
     "text": [
      "My name is: Bharath\n",
      "Engineer\n",
      "My name is: Bharath2\n",
      "Doctor\n"
     ]
    }
   ],
   "source": [
    "class Person:\n",
    "    def __init__(self, name):\n",
    "        self.name = name\n",
    "        \n",
    "    def sayName(self):\n",
    "        print(\"My name is: {}\".format(self.name))\n",
    "        \n",
    "class Engineer(Person):\n",
    "    def __init__(self,name):\n",
    "        super().__init__(name)\n",
    "        self.profession = \"Engineer\"\n",
    "        \n",
    "    def sayProfession(self):\n",
    "        print(self.profession)\n",
    "        \n",
    "class Doctor(Person):\n",
    "    def __init__(self,name):\n",
    "        super().__init__(name)\n",
    "        self.profession = \"Doctor\"\n",
    "        \n",
    "    def sayProfession(self):\n",
    "        print(self.profession)\n",
    "        \n",
    "engineer = Engineer(\"Bharath\")\n",
    "doctor = Doctor(\"Bharath2\")\n",
    "engineer.sayName()\n",
    "engineer.sayProfession()\n",
    "\n",
    "doctor.sayName()\n",
    "doctor.sayProfession()"
   ]
  },
  {
   "cell_type": "code",
   "execution_count": 14,
   "metadata": {},
   "outputs": [
    {
     "name": "stdout",
     "output_type": "stream",
     "text": [
      "From A\n",
      "From B\n",
      "From C\n"
     ]
    }
   ],
   "source": [
    "# multilevel inheritance\n",
    "class A:\n",
    "    def printA(self):\n",
    "        print(\"From A\")\n",
    "    \n",
    "class B:\n",
    "    def printB(self):\n",
    "        print(\"From B\")\n",
    "    \n",
    "class C(A,B):\n",
    "    def printC(self):\n",
    "        print(\"From C\")\n",
    "        \n",
    "obj = C()\n",
    "obj.printA()\n",
    "obj.printB()\n",
    "obj.printC()"
   ]
  },
  {
   "cell_type": "code",
   "execution_count": 16,
   "metadata": {},
   "outputs": [
    {
     "name": "stdout",
     "output_type": "stream",
     "text": [
      "5\n",
      "9\n"
     ]
    }
   ],
   "source": [
    "# overriding vs Overloading\n",
    "class Base:\n",
    "    def add(self, a, b):\n",
    "        return a + b\n",
    "\n",
    "class Derived(Base):\n",
    "    def add(self, a, b, c):\n",
    "        return a + b + c\n",
    "\n",
    "obj = Base()\n",
    "derived = Derived()\n",
    "print(obj.add(2, 3))\n",
    "print(derived.add(2, 3, 4))"
   ]
  },
  {
   "cell_type": "code",
   "execution_count": 19,
   "metadata": {},
   "outputs": [
    {
     "name": "stdout",
     "output_type": "stream",
     "text": [
      "3\n",
      "22\n"
     ]
    }
   ],
   "source": [
    "def add(*args):\n",
    "    result = 0\n",
    "    for x in args:\n",
    "        result += x\n",
    "    return result\n",
    "\n",
    "print(add(1,2))\n",
    "print(add(1,2,3,4,5,7))"
   ]
  },
  {
   "cell_type": "code",
   "execution_count": null,
   "metadata": {},
   "outputs": [],
   "source": [
    " "
   ]
  }
 ],
 "metadata": {
  "kernelspec": {
   "display_name": "Python 3",
   "language": "python",
   "name": "python3"
  },
  "language_info": {
   "codemirror_mode": {
    "name": "ipython",
    "version": 3
   },
   "file_extension": ".py",
   "mimetype": "text/x-python",
   "name": "python",
   "nbconvert_exporter": "python",
   "pygments_lexer": "ipython3",
   "version": "3.8.3"
  }
 },
 "nbformat": 4,
 "nbformat_minor": 4
}
